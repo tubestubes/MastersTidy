{
 "cells": [
  {
   "cell_type": "markdown",
   "metadata": {},
   "source": [
    "# Simulation Script Loop Notebook"
   ]
  },
  {
   "cell_type": "code",
   "execution_count": 1,
   "metadata": {},
   "outputs": [],
   "source": [
    "from agents import *\n",
    "from environment import *\n",
    "import numpy as np\n",
    "from IPython.display import clear_output \n",
    "import time\n",
    "import pickle\n",
    "import matplotlib.pyplot as plt\n",
    "%matplotlib inline\n",
    "plt.rc('font', family='serif')\n",
    "plt.rc('xtick', labelsize='x-small')\n",
    "plt.rc('ytick', labelsize='x-small')\n",
    "plt.rc('font', size = 18)\n",
    "plt.rc('text', usetex=True)"
   ]
  },
  {
   "cell_type": "markdown",
   "metadata": {},
   "source": [
    "## Defaut Config"
   ]
  },
  {
   "cell_type": "code",
   "execution_count": 2,
   "metadata": {},
   "outputs": [],
   "source": [
    "# Numbers\n",
    "hv = 500         # n of HVs\n",
    "av = 500         # n of AVs\n",
    "N = 500           # n of Days\n",
    "\n",
    "orig = '1'\n",
    "dest = '9'\n",
    "\n",
    "# Human Parameters\n",
    "hv_err = 5        # error term on HV time perception ~N(0, hv_err)\n",
    "hv_theta = .5     # rationality\n",
    "hv_beta = .5      # prob of change route\n",
    "hv_len = 3        # Memory lenth\n",
    "hv_atis_bais = 0  # bias*prevTT + (1-bais)*memTT\n",
    "\n",
    "# AV Parameters\n",
    "av_err = 0\n",
    "av_theta = 1\n",
    "av_len = 1000     \n",
    "av_atis_bias = 0\n",
    "# no beta. all routes always concidered\n",
    "\n",
    "# Square Network\n",
    "roads = [Road('1', '2', 720, 20), Road('2', '3', 720, 12), Road('1', '4', 480, 15), Road('2', '5', 360, 12),\n",
    "\tRoad('3', '6', 720, 12), Road('4', '5', 300, 10), Road('5', '6', 360, 12), Road('4', '7', 480, 15),\n",
    "\tRoad('5', '8', 300, 10), Road('6', '9', 720, 30), Road('7', '8', 480, 15) ,Road('8', '9', 480, 15)]\n"
   ]
  },
  {
   "cell_type": "markdown",
   "metadata": {},
   "source": [
    "## HV Loops"
   ]
  },
  {
   "cell_type": "code",
   "execution_count": 3,
   "metadata": {},
   "outputs": [
    {
     "name": "stdout",
     "output_type": "stream",
     "text": [
      "Loop 0/10: hv_theta=0.01\n",
      "Loop 1/10: hv_theta=0.05\n",
      "Loop 2/10: hv_theta=0.1\n",
      "Loop 3/10: hv_theta=0.2\n",
      "Loop 4/10: hv_theta=0.3\n",
      "Loop 5/10: hv_theta=0.4\n",
      "Loop 6/10: hv_theta=0.5\n",
      "Loop 7/10: hv_theta=1\n",
      "Loop 8/10: hv_theta=2\n",
      "Loop 9/10: hv_theta=3\n"
     ]
    },
    {
     "data": {
      "image/png": "[encoded data removed]",
      "text/plain": [
       "<Figure size 576x432 with 1 Axes>"
      ]
     },
     "metadata": {
      "needs_background": "light"
     },
     "output_type": "display_data"
    }
   ],
   "source": [
    "# hv theta loop\n",
    "variable = [1, 3, 5, 10, 15, 50, 100]\n",
    "\n",
    "loop = 0\n",
    "lenth = len(variable)\n",
    "tables = []\n",
    "\n",
    "for hv_theta in variable:\n",
    "    \n",
    "    #clear_output(wait=True)\n",
    "    print(f\"Loop {loop}/{lenth}: {hv_theta=}\")\n",
    "    %run -i sim_script.py    # Run script in local this namespace\n",
    "    \n",
    "    tables.append(route_log)\n",
    "    loop = loop + 1\n",
    "    \n",
    "#clear_output(wait=True)\n",
    "\n",
    "# Plots\n",
    "cov_time = []\n",
    "day = 0\n",
    "for table in tables:\n",
    "    stdr0 = (table.loc[day, 'Route0' ] - table['Route0'].tail(50).mean() )/ table['Route0'].tail(50).std()\n",
    "    while stdr0 > 2:    \n",
    "        day = day + 1\n",
    "        stdr0 = ( table.loc[day, 'Route0' ] - table['Route0'].tail(50).mean() )/ table['Route0'].tail(50).std()\n",
    "    cov_time.append(day)\n",
    "    \n",
    "fig, ax = plt.subplots(figsize=(8,6))\n",
    "ax.set(xlabel='HV Theta', ylabel='Cov Time',\n",
    "       title='Cov time for each HV theta')\n",
    "ax.scatter(variable, cov_time)\n",
    "#fig.savefig('figs/hv_theta_scatter.png', transparent=False, dpi=80, bbox_inches=\"tight\")\n",
    "\n",
    "hv_theta = .5"
   ]
  },
  {
   "cell_type": "code",
   "execution_count": null,
   "metadata": {},
   "outputs": [],
   "source": [
    "# hv beta loop\n",
    "variable = list(np.linspace(0, 1, 10))\n",
    "loop = 0\n",
    "lenth = len(variable)\n",
    "var_len = range(len(variable))\n",
    "tables = []\n",
    "for hv_beta in variable:\n",
    "    \n",
    "    sta = time.time()\n",
    "    %run -i sim_script.py \n",
    "    en = time.time()\n",
    "\n",
    "     # Timing and ETA\n",
    "    dif = en - sta\n",
    "    togo = lenth - loop\n",
    "    left = dif * togo\n",
    "    mins = int(left//60)\n",
    "    secs = int(left - mins*60)\n",
    "    perc = int(100*loop/lenth)\n",
    "    clear_output(wait=True) # WIP indicator\n",
    "    print(f\"Loop {loop}/{lenth} : {perc}% : ETA {mins}:{secs}, {variable=}\")\n",
    "    \n",
    "    tables.append(route_log)\n",
    "    loop = loop + 1\n",
    "clear_output(wait=True)\n",
    "\n",
    "# Plots\n",
    "cov_time = []\n",
    "day = 0\n",
    "for table in tables:\n",
    "    stdr0 = (table.loc[day, 'Route0' ] - table['Route0'].tail(50).mean() )/ table['Route0'].tail(50).std()\n",
    "    while stdr0 > 2:    \n",
    "        day = day + 1\n",
    "        stdr0 = ( table.loc[day, 'Route0' ] - table['Route0'].tail(50).mean() )/ table['Route0'].tail(50).std()\n",
    "    cov_time.append(day)\n",
    "    \n",
    "fig, ax = plt.subplots(figsize=(8,6))\n",
    "ax.set(xlabel='HV Beta', ylabel='Cov Time',\n",
    "       title='Cov time for each HV Beta')\n",
    "ax.scatter(variable, cov_time)\n",
    "#fig.savefig('figs/hv_beta_scatter.png', transparent=False, dpi=80, bbox_inches=\"tight\")\n",
    "\n",
    "hv_beta = .5"
   ]
  },
  {
   "cell_type": "code",
   "execution_count": null,
   "metadata": {},
   "outputs": [],
   "source": [
    "# hv err loop\n",
    "variable = list(np.linspace(0, 10, 10))\n",
    "loop = 0\n",
    "lenth = len(variable)\n",
    "var_len = range(len(variable))\n",
    "tables = []\n",
    "for hv_err in variable:\n",
    "    \n",
    "    sta = time.time()\n",
    "    %run -i sim_script.py \n",
    "    en = time.time()\n",
    "\n",
    "     # Timing and ETA\n",
    "    dif = en - sta\n",
    "    togo = lenth - loop\n",
    "    left = dif * togo\n",
    "    mins = int(left//60)\n",
    "    secs = int(left - mins*60)\n",
    "    perc = int(100*loop/lenth)\n",
    "    clear_output(wait=True) # WIP indicator\n",
    "    print(f\"Loop {loop}/{lenth} : {perc}% : ETA {mins}:{secs}, {variable=}\")\n",
    "    \n",
    "    tables.append(route_log)\n",
    "    loop = loop + 1\n",
    "clear_output(wait=True)\n",
    "\n",
    "# Plots\n",
    "cov_time = []\n",
    "day = 0\n",
    "for table in tables:\n",
    "    stdr0 = (table.loc[day, 'Route0' ] - table['Route0'].tail(50).mean() )/ table['Route0'].tail(50).std()\n",
    "    while stdr0 > 2:    \n",
    "        day = day + 1\n",
    "        stdr0 = ( table.loc[day, 'Route0' ] - table['Route0'].tail(50).mean() )/ table['Route0'].tail(50).std()\n",
    "    cov_time.append(day)\n",
    "    \n",
    "fig, ax = plt.subplots(figsize=(8,6))\n",
    "ax.set(xlabel='HV Error (+/-)', ylabel='Cov Time',\n",
    "       title='Cov time for each HV Error')\n",
    "ax.scatter(variable, cov_time)\n",
    "#fig.savefig('figs/hv_err_scatter.png', transparent=False, dpi=80, bbox_inches=\"tight\")\n",
    "\n",
    "hv_err= 5"
   ]
  },
  {
   "cell_type": "code",
   "execution_count": null,
   "metadata": {},
   "outputs": [],
   "source": [
    "# hv len loop\n",
    "variable = list(np.linspace(0, 20, 10))\n",
    "loop = 0\n",
    "lenth = len(variable)\n",
    "var_len = range(len(variable))\n",
    "tables = []\n",
    "for hv_len in variable:\n",
    "    \n",
    "    sta = time.time()\n",
    "    %run -i sim_script.py \n",
    "    en = time.time()\n",
    "\n",
    "     # Timing and ETA\n",
    "    dif = en - sta\n",
    "    togo = lenth - loop\n",
    "    left = dif * togo\n",
    "    mins = int(left//60)\n",
    "    secs = int(left - mins*60)\n",
    "    perc = int(100*loop/lenth)\n",
    "    clear_output(wait=True) # WIP indicator\n",
    "    print(f\"Loop {loop}/{lenth} : {perc}% : ETA {mins}:{secs}, {variable=}\")\n",
    "    \n",
    "    tables.append(route_log)\n",
    "    loop = loop + 1\n",
    "clear_output(wait=True)\n",
    "\n",
    "# Plots\n",
    "cov_time = []\n",
    "day = 0\n",
    "for table in tables:\n",
    "    stdr0 = (table.loc[day, 'Route0' ] - table['Route0'].tail(50).mean() )/ table['Route0'].tail(50).std()\n",
    "    while stdr0 > 2:    \n",
    "        day = day + 1\n",
    "        stdr0 = ( table.loc[day, 'Route0' ] - table['Route0'].tail(50).mean() )/ table['Route0'].tail(50).std()\n",
    "    cov_time.append(day)\n",
    "    \n",
    "fig, ax = plt.subplots(figsize=(8,6))\n",
    "ax.set(xlabel='HV Memory Lenth (Days)', ylabel='Cov Time',\n",
    "       title='Cov time for each HV Memory Lenth')\n",
    "ax.scatter(variable, cov_time)\n",
    "#fig.savefig('figs/hv_len_scatter.png', transparent=False, dpi=80, bbox_inches=\"tight\")\n",
    "\n",
    "hv_len = 3"
   ]
  },
  {
   "cell_type": "code",
   "execution_count": null,
   "metadata": {},
   "outputs": [],
   "source": [
    "# hv atis loop\n",
    "variable = list(np.linspace(0, 1, 10))\n",
    "loop = 0\n",
    "lenth = len(variable)\n",
    "var_len = range(len(variable))\n",
    "tables = []\n",
    "for hv_atis_bais in variable:\n",
    "    \n",
    "    sta = time.time()\n",
    "    %run -i sim_script.py \n",
    "    en = time.time()\n",
    "\n",
    "     # Timing and ETA\n",
    "    dif = en - sta\n",
    "    togo = lenth - loop\n",
    "    left = dif * togo\n",
    "    mins = int(left//60)\n",
    "    secs = int(left - mins*60)\n",
    "    perc = int(100*loop/lenth)\n",
    "    clear_output(wait=True) # WIP indicator\n",
    "    print(f\"Loop {loop}/{lenth} : {perc}% : ETA {mins}:{secs}, {variable=}\")\n",
    "    \n",
    "    tables.append(route_log)\n",
    "    loop = loop + 1\n",
    "clear_output(wait=True)\n",
    "\n",
    "# Plots\n",
    "cov_time = []\n",
    "day = 0\n",
    "for table in tables:\n",
    "    stdr0 = (table.loc[day, 'Route0' ] - table['Route0'].tail(50).mean() )/ table['Route0'].tail(50).std()\n",
    "    while stdr0 > 2:    \n",
    "        day = day + 1\n",
    "        stdr0 = ( table.loc[day, 'Route0' ] - table['Route0'].tail(50).mean() )/ table['Route0'].tail(50).std()\n",
    "    cov_time.append(day)\n",
    "    \n",
    "fig, ax = plt.subplots(figsize=(8,6))\n",
    "ax.set(xlabel='HV ATIS Bias', ylabel='Cov Time',\n",
    "       title='Cov time for each HV ATIS Bias')\n",
    "ax.scatter(variable, cov_time)\n",
    "#fig.savefig('figs/hv_atais_bais.png', transparent=False, dpi=80, bbox_inches=\"tight\")\n",
    "\n",
    "hv_atis_bais = 0"
   ]
  },
  {
   "cell_type": "markdown",
   "metadata": {},
   "source": [
    "## AV Loops"
   ]
  },
  {
   "cell_type": "code",
   "execution_count": 4,
   "metadata": {},
   "outputs": [
    {
     "data": {
      "image/png": "[encoded data removed]",
      "text/plain": [
       "<Figure size 576x432 with 1 Axes>"
      ]
     },
     "metadata": {
      "needs_background": "light"
     },
     "output_type": "display_data"
    }
   ],
   "source": [
    "# av theta loop\n",
    "variable = [0.01, 0.05, 0.1, .2, .3, .4, .5, 1, 2, 3]\n",
    "loop = 0\n",
    "lenth = len(variable)\n",
    "var_len = range(len(variable))\n",
    "tables = []\n",
    "for av_theta in variable:\n",
    "    \n",
    "    sta = time.time()\n",
    "    %run -i sim_script.py \n",
    "    en = time.time()\n",
    "\n",
    "     # Timing and ETA\n",
    "    dif = en - sta\n",
    "    togo = lenth - loop\n",
    "    left = dif * togo\n",
    "    mins = int(left//60)\n",
    "    secs = int(left - mins*60)\n",
    "    perc = int(100*loop/lenth)\n",
    "    clear_output(wait=True) # WIP indicator\n",
    "    print(f\"Loop {loop}/{lenth} : {perc}% : ETA {mins}:{secs}, {variable=}\")\n",
    "    \n",
    "    tables.append(route_log)\n",
    "    loop = loop + 1\n",
    "clear_output(wait=True)\n",
    "\n",
    "# Plots\n",
    "cov_time = []\n",
    "day = 0\n",
    "for table in tables:\n",
    "    stdr0 = (table.loc[day, 'Route0' ] - table['Route0'].tail(50).mean() )/ table['Route0'].tail(50).std()\n",
    "    while stdr0 > 2:    \n",
    "        day = day + 1\n",
    "        stdr0 = ( table.loc[day, 'Route0' ] - table['Route0'].tail(50).mean() )/ table['Route0'].tail(50).std()\n",
    "    cov_time.append(day)\n",
    "    \n",
    "fig, ax = plt.subplots(figsize=(8,6))\n",
    "ax.set(xlabel='AV Theta', ylabel='Cov Time',\n",
    "       title='Cov time for each AV theta')\n",
    "ax.scatter(variable, cov_time)\n",
    "#fig.savefig('figs/av_theta_scatter.png', transparent=False, dpi=80, bbox_inches=\"tight\")\n",
    "\n",
    "hv_theta = 1"
   ]
  },
  {
   "cell_type": "code",
   "execution_count": null,
   "metadata": {},
   "outputs": [],
   "source": [
    "# av err \n",
    "variable = list(np.linspace(0, 10, 10))\n",
    "loop = 0\n",
    "lenth = len(variable)\n",
    "var_len = range(len(variable))\n",
    "tables = []\n",
    "for av_err in variable:\n",
    "    \n",
    "    sta = time.time()\n",
    "    %run -i sim_script.py \n",
    "    en = time.time()\n",
    "\n",
    "     # Timing and ETA\n",
    "    dif = en - sta\n",
    "    togo = lenth - loop\n",
    "    left = dif * togo\n",
    "    mins = int(left//60)\n",
    "    secs = int(left - mins*60)\n",
    "    perc = int(100*loop/lenth)\n",
    "    clear_output(wait=True) # WIP indicator\n",
    "    print(f\"Loop {loop}/{lenth} : {perc}% : ETA {mins}:{secs}, {variable=}\")\n",
    "    \n",
    "    tables.append(route_log)\n",
    "    loop = loop + 1\n",
    "clear_output(wait=True)\n",
    "\n",
    "# Plots\n",
    "cov_time = []\n",
    "day = 0\n",
    "for table in tables:\n",
    "    stdr0 = (table.loc[day, 'Route0' ] - table['Route0'].tail(50).mean() )/ table['Route0'].tail(50).std()\n",
    "    while stdr0 > 2:    \n",
    "        day = day + 1\n",
    "        stdr0 = ( table.loc[day, 'Route0' ] - table['Route0'].tail(50).mean() )/ table['Route0'].tail(50).std()\n",
    "    cov_time.append(day)\n",
    "    \n",
    "fig, ax = plt.subplots(figsize=(8,6))\n",
    "ax.set(xlabel='AV Error (+/-)', ylabel='Cov Time',\n",
    "       title='Cov time for each AV Error')\n",
    "ax.scatter(variable, cov_time)\n",
    "#fig.savefig('figs/av_err_scatter.png', transparent=False, dpi=80, bbox_inches=\"tight\")\n",
    "\n",
    "hv_err= 0"
   ]
  },
  {
   "cell_type": "code",
   "execution_count": 2,
   "metadata": {},
   "outputs": [
    {
     "ename": "NameError",
     "evalue": "name 'np' is not defined",
     "output_type": "error",
     "traceback": [
      "\u001b[1;31m---------------------------------------------------------------------------\u001b[0m",
      "\u001b[1;31mNameError\u001b[0m                                 Traceback (most recent call last)",
      "\u001b[1;32m<ipython-input-2-042f8a3f1fc8>\u001b[0m in \u001b[0;36m<module>\u001b[1;34m\u001b[0m\n\u001b[0;32m      1\u001b[0m \u001b[1;31m# av atis loop\u001b[0m\u001b[1;33m\u001b[0m\u001b[1;33m\u001b[0m\u001b[1;33m\u001b[0m\u001b[0m\n\u001b[1;32m----> 2\u001b[1;33m \u001b[0mvariable\u001b[0m \u001b[1;33m=\u001b[0m \u001b[0mlist\u001b[0m\u001b[1;33m(\u001b[0m\u001b[0mnp\u001b[0m\u001b[1;33m.\u001b[0m\u001b[0mlinspace\u001b[0m\u001b[1;33m(\u001b[0m\u001b[1;36m0\u001b[0m\u001b[1;33m,\u001b[0m \u001b[1;36m1\u001b[0m\u001b[1;33m,\u001b[0m \u001b[1;36m10\u001b[0m\u001b[1;33m)\u001b[0m\u001b[1;33m)\u001b[0m\u001b[1;33m\u001b[0m\u001b[1;33m\u001b[0m\u001b[0m\n\u001b[0m\u001b[0;32m      3\u001b[0m \u001b[0mloop\u001b[0m \u001b[1;33m=\u001b[0m \u001b[1;36m0\u001b[0m\u001b[1;33m\u001b[0m\u001b[1;33m\u001b[0m\u001b[0m\n\u001b[0;32m      4\u001b[0m \u001b[0mlenth\u001b[0m \u001b[1;33m=\u001b[0m \u001b[0mlen\u001b[0m\u001b[1;33m(\u001b[0m\u001b[0mvariable\u001b[0m\u001b[1;33m)\u001b[0m\u001b[1;33m\u001b[0m\u001b[1;33m\u001b[0m\u001b[0m\n\u001b[0;32m      5\u001b[0m \u001b[0mvar_len\u001b[0m \u001b[1;33m=\u001b[0m \u001b[0mrange\u001b[0m\u001b[1;33m(\u001b[0m\u001b[0mlen\u001b[0m\u001b[1;33m(\u001b[0m\u001b[0mvariable\u001b[0m\u001b[1;33m)\u001b[0m\u001b[1;33m)\u001b[0m\u001b[1;33m\u001b[0m\u001b[1;33m\u001b[0m\u001b[0m\n",
      "\u001b[1;31mNameError\u001b[0m: name 'np' is not defined"
     ]
    }
   ],
   "source": [
    "# av atis loop\n",
    "variable = list(np.linspace(0, 1, 10))\n",
    "loop = 0\n",
    "lenth = len(variable)\n",
    "var_len = range(len(variable))\n",
    "tables = []\n",
    "for av_atis_bais in variable:\n",
    "    \n",
    "    sta = time.time()\n",
    "    %run -i sim_script.py \n",
    "    en = time.time()\n",
    "\n",
    "     # Timing and ETA\n",
    "    dif = en - sta\n",
    "    togo = lenth - loop\n",
    "    left = dif * togo\n",
    "    mins = int(left//60)\n",
    "    secs = int(left - mins*60)\n",
    "    perc = int(100*loop/lenth)\n",
    "    clear_output(wait=True) # WIP indicator\n",
    "    print(f\"Loop {loop}/{lenth} : {perc}% : ETA {mins}:{secs}, {variable=}\")\n",
    "    \n",
    "    tables.append(route_log)\n",
    "    loop = loop + 1\n",
    "clear_output(wait=True)\n",
    "\n",
    "# Plots\n",
    "cov_time = []\n",
    "day = 0\n",
    "for table in tables:\n",
    "    stdr0 = (table.loc[day, 'Route0' ] - table['Route0'].tail(50).mean() )/ table['Route0'].tail(50).std()\n",
    "    while stdr0 > 2:    \n",
    "        day = day + 1\n",
    "        stdr0 = ( table.loc[day, 'Route0' ] - table['Route0'].tail(50).mean() )/ table['Route0'].tail(50).std()\n",
    "    cov_time.append(day)\n",
    "    \n",
    "fig, ax = plt.subplots(figsize=(8,6))\n",
    "ax.set(xlabel='AV ATIS Bias', ylabel='Cov Time',\n",
    "       title='Cov time for each AV ATIS Bias')\n",
    "ax.scatter(variable, cov_time)\n",
    "#fig.savefig('figs/av_atais_bais.png', transparent=False, dpi=80, bbox_inches=\"tight\")\n",
    "\n",
    "hv_atis_bais = 0"
   ]
  },
  {
   "cell_type": "code",
   "execution_count": 3,
   "metadata": {},
   "outputs": [
    {
     "name": "stdout",
     "output_type": "stream",
     "text": [
      "Loop 0/11 : 0% : ETA 0:0, variable=[0.0, 100.0, 200.0, 300.0, 400.0, 500.0, 600.0, 700.0, 800.0, 900.0, 1000.0]\n"
     ]
    },
    {
     "ename": "NameError",
     "evalue": "name 'route_log' is not defined",
     "output_type": "error",
     "traceback": [
      "\u001b[1;31m---------------------------------------------------------------------------\u001b[0m",
      "\u001b[1;31mNameError\u001b[0m                                 Traceback (most recent call last)",
      "\u001b[1;32m~\\Desktop\\Masters\\final\\sim_script.py\u001b[0m in \u001b[0;36m<module>\u001b[1;34m\u001b[0m\n\u001b[0;32m     25\u001b[0m     \u001b[0mprint\u001b[0m\u001b[1;33m(\u001b[0m\u001b[1;34mf\"Loop {loop}/{lenth} : {perc}% : ETA {mins}:{secs}, {variable=}\"\u001b[0m\u001b[1;33m)\u001b[0m\u001b[1;33m\u001b[0m\u001b[1;33m\u001b[0m\u001b[0m\n\u001b[0;32m     26\u001b[0m \u001b[1;33m\u001b[0m\u001b[0m\n\u001b[1;32m---> 27\u001b[1;33m     \u001b[0mtables\u001b[0m\u001b[1;33m.\u001b[0m\u001b[0mappend\u001b[0m\u001b[1;33m(\u001b[0m\u001b[0mroute_log\u001b[0m\u001b[1;33m)\u001b[0m\u001b[1;33m\u001b[0m\u001b[1;33m\u001b[0m\u001b[0m\n\u001b[0m\u001b[0;32m     28\u001b[0m     \u001b[0mloop\u001b[0m \u001b[1;33m=\u001b[0m \u001b[0mloop\u001b[0m \u001b[1;33m+\u001b[0m \u001b[1;36m1\u001b[0m\u001b[1;33m\u001b[0m\u001b[1;33m\u001b[0m\u001b[0m\n\u001b[0;32m     29\u001b[0m \u001b[0mclear_output\u001b[0m\u001b[1;33m(\u001b[0m\u001b[0mwait\u001b[0m\u001b[1;33m=\u001b[0m\u001b[1;32mTrue\u001b[0m\u001b[1;33m)\u001b[0m\u001b[1;33m\u001b[0m\u001b[1;33m\u001b[0m\u001b[0m\n",
      "\u001b[1;31mNameError\u001b[0m: name 'route_log' is not defined"
     ]
    }
   ],
   "source": [
    "# av err \n",
    "variable = list(np.linspace(0, 1000, 11))\n",
    "\n",
    "loop = 0\n",
    "lenth = len(variable)\n",
    "var_len = range(len(variable))\n",
    "tables = []\n",
    "for ii in var_len:\n",
    "    \n",
    "    hv = variable[ii]\n",
    "    av = variable[-ii-1]\n",
    "    \n",
    "    sta = time.time()\n",
    "    %run -i sim_script.py \n",
    "    en = time.time()\n",
    "\n",
    "     # Timing and ETA\n",
    "    dif = en - sta\n",
    "    togo = lenth - loop\n",
    "    left = dif * togo\n",
    "    mins = int(left//60)\n",
    "    secs = int(left - mins*60)\n",
    "    perc = int(100*loop/lenth)\n",
    "    clear_output(wait=True) # WIP indicator\n",
    "    print(f\"Loop {loop}/{lenth} : {perc}% : ETA {mins}:{secs}, {variable=}\")\n",
    "    \n",
    "    tables.append(route_log)\n",
    "    loop = loop + 1\n",
    "clear_output(wait=True)\n",
    "\n",
    "# Plots\n",
    "cov_time = []\n",
    "day = 0\n",
    "for table in tables:\n",
    "    stdr0 = (table.loc[day, 'Route0' ] - table['Route0'].tail(50).mean() )/ table['Route0'].tail(50).std()\n",
    "    while stdr0 > 2:    \n",
    "        day = day + 1\n",
    "        stdr0 = ( table.loc[day, 'Route0' ] - table['Route0'].tail(50).mean() )/ table['Route0'].tail(50).std()\n",
    "    cov_time.append(day)\n",
    "    \n",
    "fig, ax = plt.subplots(figsize=(8,6))\n",
    "ax.set(xlabel='AV Error (+/-)', ylabel='Cov Time',\n",
    "       title='Cov time for each AV Error')\n",
    "ax.scatter(variable, cov_time)\n",
    "#fig.savefig('figs/av_err_scatter.png', transparent=False, dpi=80, bbox_inches=\"tight\")\n",
    "\n",
    "hv = 500\n",
    "av = 500"
   ]
  },
  {
   "cell_type": "code",
   "execution_count": 19,
   "metadata": {},
   "outputs": [
    {
     "data": {
      "text/plain": [
       "4"
      ]
     },
     "execution_count": 19,
     "metadata": {},
     "output_type": "execute_result"
    }
   ],
   "source": [
    "a = [1,2,3,4,5]\n",
    "a[-1-1]"
   ]
  },
  {
   "cell_type": "code",
   "execution_count": 8,
   "metadata": {},
   "outputs": [
    {
     "data": {
      "text/plain": [
       "[0.0, 100.0, 200.0, 300.0, 400.0, 500.0, 600.0, 700.0, 800.0, 900.0, 1000.0]"
      ]
     },
     "execution_count": 8,
     "metadata": {},
     "output_type": "execute_result"
    }
   ],
   "source": [
    "variable = list(np.linspace(0, 1000, 11))\n",
    "variable"
   ]
  },
  {
   "cell_type": "code",
   "execution_count": null,
   "metadata": {},
   "outputs": [],
   "source": []
  }
 ],
 "metadata": {
  "kernelspec": {
   "display_name": "Python 3",
   "language": "python",
   "name": "python3"
  },
  "language_info": {
   "codemirror_mode": {
    "name": "ipython",
    "version": 3
   },
   "file_extension": ".py",
   "mimetype": "text/x-python",
   "name": "python",
   "nbconvert_exporter": "python",
   "pygments_lexer": "ipython3",
   "version": "3.8.3"
  }
 },
 "nbformat": 4,
 "nbformat_minor": 4
}
